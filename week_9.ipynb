{
  "nbformat": 4,
  "nbformat_minor": 0,
  "metadata": {
    "colab": {
      "provenance": [],
      "authorship_tag": "ABX9TyOSKJ8JircWM2DRh0bWQFKq",
      "include_colab_link": true
    },
    "kernelspec": {
      "name": "python3",
      "display_name": "Python 3"
    },
    "language_info": {
      "name": "python"
    }
  },
  "cells": [
    {
      "cell_type": "markdown",
      "metadata": {
        "id": "view-in-github",
        "colab_type": "text"
      },
      "source": [
        "<a href=\"https://colab.research.google.com/github/MuskarMonish/DWV-lab/blob/main/week_9.ipynb\" target=\"_parent\"><img src=\"https://colab.research.google.com/assets/colab-badge.svg\" alt=\"Open In Colab\"/></a>"
      ]
    },
    {
      "cell_type": "code",
      "execution_count": 1,
      "metadata": {
        "id": "MG9cVU52Z5A6"
      },
      "outputs": [],
      "source": [
        "import re"
      ]
    },
    {
      "cell_type": "code",
      "source": [
        "def search_pattern(pattern, text):\n",
        " result = re.search(pattern, text)\n",
        " if result:\n",
        "  print(f\"Match found: {result.group()}\")\n",
        " else:\n",
        "  print(\"No match found\")\n",
        "pattern = r'\\d+'\n",
        "text = \"There are 42 apples in the basket.\"\n",
        "search_pattern(pattern, text)\n"
      ],
      "metadata": {
        "colab": {
          "base_uri": "https://localhost:8080/"
        },
        "id": "ZBdPxG_GZ8az",
        "outputId": "9b963902-cc14-4c70-f877-503b2de8446b"
      },
      "execution_count": 5,
      "outputs": [
        {
          "output_type": "stream",
          "name": "stdout",
          "text": [
            "Match found: 42\n"
          ]
        }
      ]
    },
    {
      "cell_type": "code",
      "source": [
        "\n",
        "def split_pattern(pattern, text):\n",
        " result = re.split(pattern, text)\n",
        " print(f\"Splitted text: {result}\")\n",
        "pattern = r'\\s+'\n",
        "text = \"Split this text by whitespace characters.\"\n",
        "split_pattern(pattern, text)\n"
      ],
      "metadata": {
        "colab": {
          "base_uri": "https://localhost:8080/"
        },
        "id": "2rOWRLGhaBJ7",
        "outputId": "bc6bb896-2da5-42c8-fc58-9c6a5a29af10"
      },
      "execution_count": 3,
      "outputs": [
        {
          "output_type": "stream",
          "name": "stdout",
          "text": [
            "Splitted text: ['Split', 'this', 'text', 'by', 'whitespace', 'characters.']\n"
          ]
        }
      ]
    },
    {
      "cell_type": "code",
      "source": [
        "\n",
        "def replace_pattern(pattern, replacement, text):\n",
        " result = re.sub(pattern, replacement, text)\n",
        " print(f\"Replaced text: {result}\")\n",
        "pattern = r'\\d+'\n",
        "replacement = \"XX\"\n",
        "text = \"Replace the number 42 with XX.\"\n",
        "replace_pattern(pattern, replacement, text)"
      ],
      "metadata": {
        "colab": {
          "base_uri": "https://localhost:8080/"
        },
        "id": "duDeh2_IaD6T",
        "outputId": "f2a6bde0-7a53-44fa-efba-6dd6f503e763"
      },
      "execution_count": 4,
      "outputs": [
        {
          "output_type": "stream",
          "name": "stdout",
          "text": [
            "Replaced text: Replace the number XX with XX.\n"
          ]
        }
      ]
    },
    {
      "cell_type": "code",
      "source": [],
      "metadata": {
        "id": "xziV2WxJaFlJ"
      },
      "execution_count": null,
      "outputs": []
    }
  ]
}